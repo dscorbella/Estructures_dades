{
 "cells": [
  {
   "cell_type": "markdown",
   "id": "ce7e3e93",
   "metadata": {},
   "source": [
    "# Sprint 2. Tasca M2 T01\n",
    "\n",
    "## Ejercicio 1\n",
    "**Crea una lista que agrupe los meses del año en trimestres (1T: enero, febrero y marzo; 2T: abril, mayo, junio...), es decir, una lista con 4 listas dentro.**"
   ]
  },
  {
   "cell_type": "code",
   "execution_count": 146,
   "id": "d19571a4",
   "metadata": {
    "ExecuteTime": {
     "end_time": "2023-06-27T11:04:03.260791Z",
     "start_time": "2023-06-27T11:04:03.239847Z"
    },
    "run_control": {
     "marked": false
    }
   },
   "outputs": [
    {
     "name": "stdout",
     "output_type": "stream",
     "text": [
      "[['enero', 'febrero', 'marzo'], ['abril', 'mayo', 'junio'], ['julio', 'agosto', 'septiembre'], ['octubre', 'noviembre', 'diciembre']]\n"
     ]
    }
   ],
   "source": [
    "T1 = ['enero', 'febrero', 'marzo']\n",
    "T2 = ['abril', 'mayo', 'junio']\n",
    "T3 = ['julio', 'agosto', 'septiembre']\n",
    "T4 = ['octubre', 'noviembre', 'diciembre']\n",
    "\n",
    "Meses_por_trimestres = [T1, T2, T3, T4]\n",
    "                            \n",
    "print(Meses_por_trimestres)"
   ]
  },
  {
   "cell_type": "markdown",
   "id": "0df371fb",
   "metadata": {},
   "source": [
    "## Ejercicio 2\n",
    "**Crea un código que te permita acceder a:**\n",
    "\n",
    "- **El segundo mes del primer trimestre.**\n",
    "- **Los meses del primer trimestre.**\n",
    "- **Septiembre y octubre.**"
   ]
  },
  {
   "cell_type": "code",
   "execution_count": 147,
   "id": "daa49e9c",
   "metadata": {
    "ExecuteTime": {
     "end_time": "2023-06-27T11:04:04.149273Z",
     "start_time": "2023-06-27T11:04:04.141294Z"
    }
   },
   "outputs": [
    {
     "name": "stdout",
     "output_type": "stream",
     "text": [
      "febrero\n"
     ]
    }
   ],
   "source": [
    "print(Meses_por_trimestres[0][1])"
   ]
  },
  {
   "cell_type": "code",
   "execution_count": 148,
   "id": "0ca97f76",
   "metadata": {
    "ExecuteTime": {
     "end_time": "2023-06-27T11:04:04.534100Z",
     "start_time": "2023-06-27T11:04:04.518627Z"
    }
   },
   "outputs": [
    {
     "name": "stdout",
     "output_type": "stream",
     "text": [
      "['enero', 'febrero', 'marzo']\n"
     ]
    }
   ],
   "source": [
    "print(Meses_por_trimestres[0])"
   ]
  },
  {
   "cell_type": "code",
   "execution_count": 149,
   "id": "6990cf15",
   "metadata": {
    "ExecuteTime": {
     "end_time": "2023-06-27T11:04:04.892078Z",
     "start_time": "2023-06-27T11:04:04.878115Z"
    }
   },
   "outputs": [
    {
     "name": "stdout",
     "output_type": "stream",
     "text": [
      "septiembre octubre\n"
     ]
    }
   ],
   "source": [
    "print(Meses_por_trimestres[2][2], Meses_por_trimestres[3][0])"
   ]
  },
  {
   "cell_type": "markdown",
   "id": "fbb67637",
   "metadata": {},
   "source": [
    "## Ejercicio 3\n",
    "**Crea una lista con números desordenados y responde a las siguientes preguntas:**\n",
    "\n",
    "- **Cuántos números hay?**\n",
    "- **Cuántas veces aparece el número 3.**\n",
    "- **Cuántas veces aparecen los números 3 y 4?**\n",
    "- **Cuál es el número más grande?**\n",
    "- **Cuáles son los 3 números más pequeños?**\n",
    "- **Cuál es el rango de esta lista?**"
   ]
  },
  {
   "cell_type": "code",
   "execution_count": 25,
   "id": "d49a748e",
   "metadata": {
    "ExecuteTime": {
     "end_time": "2023-06-28T10:37:31.561915Z",
     "start_time": "2023-06-28T10:37:28.015153Z"
    }
   },
   "outputs": [
    {
     "name": "stdout",
     "output_type": "stream",
     "text": [
      "¿Cuál será el tamaño de la lista? 2\n",
      "Ingrese el valor inferior del rango: 0\n",
      "Ingrese el valor superior del rango: 9\n",
      "[1, 9]\n"
     ]
    }
   ],
   "source": [
    "import random\n",
    "\n",
    "tamaño_lista = int(input(\"¿Cuál será el tamaño de la lista? \"))\n",
    "rango_inferior = int(input(\"Ingrese el valor inferior del rango: \"))\n",
    "rango_superior = int(input(\"Ingrese el valor superior del rango: \"))\n",
    "\n",
    "if rango_inferior > rango_superior: print(\"\\nEl rango inferior debe ser menor al rango superior.\")\n",
    "else:\n",
    "    lista_aleatoria = random.choices(range(rango_inferior, rango_superior + 1), k= tamaño_lista)\n",
    "    print(lista_aleatoria)"
   ]
  },
  {
   "cell_type": "code",
   "execution_count": 26,
   "id": "21310cf4",
   "metadata": {
    "ExecuteTime": {
     "end_time": "2023-06-28T10:37:34.584397Z",
     "start_time": "2023-06-28T10:37:34.566465Z"
    }
   },
   "outputs": [
    {
     "name": "stdout",
     "output_type": "stream",
     "text": [
      "Hay 2 números en la lista.\n"
     ]
    }
   ],
   "source": [
    "print(\"Hay\", len(lista_aleatoria), \"números en la lista.\")"
   ]
  },
  {
   "cell_type": "code",
   "execution_count": 27,
   "id": "84557300",
   "metadata": {
    "ExecuteTime": {
     "end_time": "2023-06-28T10:37:39.433225Z",
     "start_time": "2023-06-28T10:37:39.419244Z"
    }
   },
   "outputs": [
    {
     "name": "stdout",
     "output_type": "stream",
     "text": [
      "Hay 0 tres en la lista.\n"
     ]
    }
   ],
   "source": [
    "contador = lista_aleatoria.count(3)\n",
    "        \n",
    "print(\"Hay\", contador, \"tres en la lista.\")"
   ]
  },
  {
   "cell_type": "code",
   "execution_count": 28,
   "id": "78d1b2d3",
   "metadata": {
    "ExecuteTime": {
     "end_time": "2023-06-28T10:37:41.724476Z",
     "start_time": "2023-06-28T10:37:41.706548Z"
    }
   },
   "outputs": [
    {
     "name": "stdout",
     "output_type": "stream",
     "text": [
      "Hay 0 tres y cuatros en la lista.\n"
     ]
    }
   ],
   "source": [
    "contador = lista_aleatoria.count(3) + lista_aleatoria.count(4)\n",
    "        \n",
    "print(\"Hay\", contador, \"tres y cuatros en la lista.\")"
   ]
  },
  {
   "cell_type": "code",
   "execution_count": 29,
   "id": "86a9b4a0",
   "metadata": {
    "ExecuteTime": {
     "end_time": "2023-06-28T10:37:43.017365Z",
     "start_time": "2023-06-28T10:37:43.001429Z"
    }
   },
   "outputs": [
    {
     "name": "stdout",
     "output_type": "stream",
     "text": [
      "El número mas grande es 9\n"
     ]
    }
   ],
   "source": [
    "maximo = max(lista_aleatoria)\n",
    "        \n",
    "print(\"El número mas grande es\", maximo)"
   ]
  },
  {
   "cell_type": "code",
   "execution_count": 30,
   "id": "c19c0a68",
   "metadata": {
    "ExecuteTime": {
     "end_time": "2023-06-28T10:37:46.227575Z",
     "start_time": "2023-06-28T10:37:46.208621Z"
    }
   },
   "outputs": [
    {
     "name": "stdout",
     "output_type": "stream",
     "text": [
      "Los tres valores más pequeños de la lista son: [1, 9]\n"
     ]
    }
   ],
   "source": [
    "tres_minimos = sorted(lista_aleatoria)[:3]\n",
    "\n",
    "print(\"Los tres valores más pequeños de la lista son:\", tres_minimos)"
   ]
  },
  {
   "cell_type": "code",
   "execution_count": 31,
   "id": "14b93362",
   "metadata": {
    "ExecuteTime": {
     "end_time": "2023-06-28T10:37:59.224899Z",
     "start_time": "2023-06-28T10:37:59.215923Z"
    }
   },
   "outputs": [
    {
     "name": "stdout",
     "output_type": "stream",
     "text": [
      "El rango de esta lista es 8\n"
     ]
    }
   ],
   "source": [
    "rango = max(lista_aleatoria) - min(lista_aleatoria)\n",
    "\n",
    "print(\"El rango de esta lista es\", rango)"
   ]
  },
  {
   "cell_type": "markdown",
   "id": "c72408df",
   "metadata": {},
   "source": [
    "## Exercici 4\n",
    "**Crea un diccionari de la següent forma i respon a les preguntes:**\n",
    "\n",
    "- **compra = { \"Pomes\" : {\"Qty\": 5, \"€\": 0.42}, \"Peres\" : {\"Qty\": 3, \"€\": 0.66} }**\n",
    "- **Afegeix alguna fruita més**\n",
    "- **Quant han costat les peres en total?**\n",
    "- **Quantes fruites hem comprat en total?**\n",
    "- **Quina és la fruita més cara?**"
   ]
  },
  {
   "cell_type": "code",
   "execution_count": 157,
   "id": "69d4b8e8",
   "metadata": {
    "ExecuteTime": {
     "end_time": "2023-06-27T11:04:09.653788Z",
     "start_time": "2023-06-27T11:04:09.642818Z"
    }
   },
   "outputs": [],
   "source": [
    "compra = { \"Pomes\" : {\"Qty\": 5, \"€\": 0.42}, \"Peres\" : {\"Qty\": 3, \"€\": 0.66} }"
   ]
  },
  {
   "cell_type": "code",
   "execution_count": 158,
   "id": "a4d9fe63",
   "metadata": {
    "ExecuteTime": {
     "end_time": "2023-06-27T11:04:10.073832Z",
     "start_time": "2023-06-27T11:04:10.062852Z"
    }
   },
   "outputs": [
    {
     "name": "stdout",
     "output_type": "stream",
     "text": [
      "{'Pomes': {'Qty': 5, '€': 0.42}, 'Peres': {'Qty': 3, '€': 0.66}, 'Platano': {'Qty': 1, '€': 0.55}}\n"
     ]
    }
   ],
   "source": [
    "compra[\"Platano\"] = {\"Qty\": 1, \"€\": 0.55}\n",
    "\n",
    "print(compra)"
   ]
  },
  {
   "cell_type": "code",
   "execution_count": 159,
   "id": "11e198ba",
   "metadata": {
    "ExecuteTime": {
     "end_time": "2023-06-27T11:04:10.431252Z",
     "start_time": "2023-06-27T11:04:10.417269Z"
    }
   },
   "outputs": [
    {
     "name": "stdout",
     "output_type": "stream",
     "text": [
      "Las peras han costado: 1.98€\n"
     ]
    }
   ],
   "source": [
    "precio_peras = compra[\"Peres\"][\"Qty\"] * compra[\"Peres\"][\"€\"]\n",
    "\n",
    "print(\"Las peras han costado: \"+ str(precio_peras) + \"€\")"
   ]
  },
  {
   "cell_type": "code",
   "execution_count": 160,
   "id": "5f77d8d1",
   "metadata": {
    "ExecuteTime": {
     "end_time": "2023-06-27T11:04:10.789004Z",
     "start_time": "2023-06-27T11:04:10.776031Z"
    }
   },
   "outputs": [
    {
     "name": "stdout",
     "output_type": "stream",
     "text": [
      "La cantidad total de frutas compradas es: 9\n"
     ]
    }
   ],
   "source": [
    "frutas_total = 0\n",
    "\n",
    "for fruta in compra:\n",
    "    frutas_total += compra[fruta][\"Qty\"]\n",
    "\n",
    "print(\"La cantidad total de frutas compradas es:\", frutas_total)"
   ]
  },
  {
   "cell_type": "code",
   "execution_count": 161,
   "id": "2d2f44f6",
   "metadata": {
    "ExecuteTime": {
     "end_time": "2023-06-27T11:04:11.190634Z",
     "start_time": "2023-06-27T11:04:11.174677Z"
    }
   },
   "outputs": [
    {
     "name": "stdout",
     "output_type": "stream",
     "text": [
      "La fruta mas cara son las Peres\n"
     ]
    }
   ],
   "source": [
    "precio_max = 0\n",
    "\n",
    "for fruta in compra:\n",
    "    if compra[fruta][\"€\"] > precio_max: \n",
    "        precio_max = compra[fruta][\"€\"]\n",
    "        fruta_cara = fruta\n",
    "\n",
    "print(\"La fruta mas cara son las\", fruta_cara)"
   ]
  }
 ],
 "metadata": {
  "hide_input": false,
  "kernelspec": {
   "display_name": "Python 3 (ipykernel)",
   "language": "python",
   "name": "python3"
  },
  "language_info": {
   "codemirror_mode": {
    "name": "ipython",
    "version": 3
   },
   "file_extension": ".py",
   "mimetype": "text/x-python",
   "name": "python",
   "nbconvert_exporter": "python",
   "pygments_lexer": "ipython3",
   "version": "3.9.13"
  },
  "nbTranslate": {
   "displayLangs": [
    "*"
   ],
   "hotkey": "alt-t",
   "langInMainMenu": true,
   "sourceLang": "en",
   "targetLang": "fr",
   "useGoogleTranslate": true
  },
  "toc": {
   "base_numbering": 1,
   "nav_menu": {},
   "number_sections": true,
   "sideBar": true,
   "skip_h1_title": false,
   "title_cell": "Table of Contents",
   "title_sidebar": "Contents",
   "toc_cell": false,
   "toc_position": {},
   "toc_section_display": true,
   "toc_window_display": false
  },
  "varInspector": {
   "cols": {
    "lenName": 16,
    "lenType": 16,
    "lenVar": 40
   },
   "kernels_config": {
    "python": {
     "delete_cmd_postfix": "",
     "delete_cmd_prefix": "del ",
     "library": "var_list.py",
     "varRefreshCmd": "print(var_dic_list())"
    },
    "r": {
     "delete_cmd_postfix": ") ",
     "delete_cmd_prefix": "rm(",
     "library": "var_list.r",
     "varRefreshCmd": "cat(var_dic_list()) "
    }
   },
   "types_to_exclude": [
    "module",
    "function",
    "builtin_function_or_method",
    "instance",
    "_Feature"
   ],
   "window_display": false
  }
 },
 "nbformat": 4,
 "nbformat_minor": 5
}
